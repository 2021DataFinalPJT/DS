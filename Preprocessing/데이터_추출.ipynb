{
    "cells": [
        {
            "cell_type": "code",
            "execution_count": 1,
            "source": [
                "import requests\n",
                "import xmltodict\n",
                "import json\n",
                "import sys\n",
                "import pandas as pd\n",
                "import numpy as np"
            ],
            "outputs": [],
            "metadata": {}
        },
        {
            "cell_type": "code",
            "execution_count": null,
            "source": [
                "# 농림수산식품교육문화정보원_팜맵기반 농업기상 조회 서비스\n",
                "# Bai/vTgIbiRsY5w5O7aVL+LHplODFxh0r0aafEu2mjWuRQY0s70R3Kzl3gszDRRXDL128+Ynn4wfcHeZ3jD0tQ==\n",
                "\n",
                "###########################################################\n",
                "# decoding\n",
                "service_key = \"Bai/vTgIbiRsY5w5O7aVL+LHplODFxh0r0aafEu2mjWuRQY0s70R3Kzl3gszDRRXDL128+Ynn4wfcHeZ3jD0tQ==\"\n",
                "\n",
                "default_url = \"http://apis.data.go.kr/B552895/rest/farmmap/getFarmmapAgricultureWeatherService/getIdBasedDayFarmimgWeatherInfo\"\n",
                "###########################################################\n",
                "\n",
                "query_params = {\"serviceKey\": service_key,\n",
                "                \"numOfRows\": 1000,\n",
                "                \"pageNo\": 1,\n",
                "                \"type\": \"xml\", # or {\"json\", \"xml\"}\n",
                "                \"id\": \"00000008\",\n",
                "                \"month\": 202107,\n",
                "                \"yearCount\": 5,\n",
                "               }\n",
                "\n",
                "\n",
                "response = requests.get(default_url, params=query_params)\n",
                "print(response)\n",
                "\n",
                "if response.status_code == 200:\n",
                "    xd = xmltodict.parse(response.text) # XML형식의 데이터를 dict형식으로 변환\n",
                "    xdj = json.dumps(xd, ensure_ascii=False) # dict형식의 데이터를 json 형식으로 변환\n",
                "    xdjd = json.loads(xdj) # json 형식의 데이터를 dict 형식으로 변환\n"
            ],
            "outputs": [],
            "metadata": {}
        },
        {
            "cell_type": "markdown",
            "source": [
                "| 번호 |          API명(국문)         |             상세기능명(영문)             |           상세기능명(국문)           |\n",
                "|:----:|:----------------------------:|:----------------------------------------:|:------------------------------------:|\n",
                "|   1  | 팜맵기반 농업기상 조회서비스 | getCoordinateBasedHourFarmimgWeatherInfo |  좌표기반 시간별 농업 기상 상세조회  |\n",
                "|   2  | 팜맵기반 농업기상 조회서비스 |  getCoordinateBasedDayFarmimgWeatherInfo |   좌표기반 일별 농업 기상 상세조회   |\n",
                "|   3  | 팜맵기반 농업기상 조회서비스 |     getPnuBasedHourFarmimgWeatherInfo    |   PNU기반 시간별 농업 기상 상세조회  |\n",
                "|   4  | 팜맵기반 농업기상 조회서비스 |     getPnuBasedDayFarmimgWeatherInfo     |    PNU기반 일별 농업 기상 상세조회   |\n",
                "|   5  | 팜맵기반 농업기상 조회서비스 |     getIdBasedHourFarmimgWeatherInfo     | 팜맵ID기반 시간별 농업 기상 상세조회 |\n",
                "|   6  | 팜맵기반 농업기상 조회서비스 |      getIdBasedDayFarmimgWeatherInfo     |  팜맵ID기반 일별 농업 기상 상세조회  |"
            ],
            "metadata": {}
        },
        {
            "cell_type": "code",
            "execution_count": 76,
            "source": [
                "d_xdjd = xdjd[\"response\"][\"body\"][\"items\"][\"item\"]\n",
                "data7 = json_normalize(d_xdjd)\n",
                "data7[\"월\"] = 7"
            ],
            "outputs": [
                {
                    "output_type": "stream",
                    "name": "stderr",
                    "text": [
                        "<ipython-input-76-05ad05d658ff>:2: FutureWarning: pandas.io.json.json_normalize is deprecated, use pandas.json_normalize instead\n",
                        "  data7 = json_normalize(d_xdjd)\n"
                    ]
                }
            ],
            "metadata": {}
        },
        {
            "cell_type": "code",
            "execution_count": 85,
            "source": [
                "query_params = {\"serviceKey\": service_key,\n",
                "                \"numOfRows\": 1000,\n",
                "                \"pageNo\": 1,\n",
                "                \"type\": \"xml\", # or {\"json\", \"xml\"}\n",
                "                \"id\": \"00000008\",\n",
                "                \"month\": 202108,\n",
                "                \"yearCount\": 5,\n",
                "               }\n",
                "\n",
                "response = requests.get(default_url, params=query_params)\n",
                "print(response)\n",
                "\n",
                "if response.status_code == 200:\n",
                "    xd2 = xmltodict.parse(response.text) # XML형식의 데이터를 dict형식으로 변환\n",
                "    xdj2 = json.dumps(xd2, ensure_ascii=False) # dict형식의 데이터를 json 형식으로 변환\n",
                "    xdjd2 = json.loads(xdj2) # json 형식의 데이터를 dict 형식으로 변환"
            ],
            "outputs": [
                {
                    "output_type": "stream",
                    "name": "stdout",
                    "text": [
                        "<Response [200]>\n"
                    ]
                }
            ],
            "metadata": {}
        },
        {
            "cell_type": "code",
            "execution_count": 86,
            "source": [
                "d_xdjd2 = xdjd2[\"response\"][\"body\"][\"items\"][\"item\"]\n",
                "data8 = json_normalize(d_xdjd2)\n",
                "data8[\"월\"] = 8"
            ],
            "outputs": [
                {
                    "output_type": "stream",
                    "name": "stderr",
                    "text": [
                        "<ipython-input-86-2ef5b2f84c0b>:2: FutureWarning: pandas.io.json.json_normalize is deprecated, use pandas.json_normalize instead\n",
                        "  data8 = json_normalize(d_xdjd2)\n"
                    ]
                }
            ],
            "metadata": {}
        },
        {
            "cell_type": "code",
            "execution_count": 88,
            "source": [
                "pd.concat([data7, data8], axis=\"rows\").to_csv(\"팜맵ID_일별_농업기상.csv\")"
            ],
            "outputs": [],
            "metadata": {}
        },
        {
            "cell_type": "code",
            "execution_count": 111,
            "source": [
                "###########################################################\n",
                "# decoding\n",
                "service_key = \"Bai/vTgIbiRsY5w5O7aVL+LHplODFxh0r0aafEu2mjWuRQY0s70R3Kzl3gszDRRXDL128+Ynn4wfcHeZ3jD0tQ==\"\n",
                "\n",
                "default_url = \"http://apis.data.go.kr/B552895/openapi/service/OrgPriceExaminService/getExaminPriceList?\"\n",
                "###########################################################\n",
                "\n",
                "query_params = {\"serviceKey\": service_key,\n",
                "                \"pageNo\": 1,\n",
                "                \"examinDe\": 20200501,\n",
                "                # \"examinCd\": 6,\n",
                "                # \"prdlstCd\": 223,\n",
                "                # \"prdlstNm\": \"오이\",\n",
                "                # \"spciesCd\": 611200,\n",
                "                # \"spciesNm\": \"오이\",\n",
                "                \"type\": \"xml\", # or {\"json\", \"xml\"}\n",
                "               }\n",
                "\n",
                "response = requests.get(default_url, params=query_params)\n",
                "print(response)\n",
                "\n",
                "if response.status_code == 200:\n",
                "    xd3 = xmltodict.parse(response.text) # XML형식의 데이터를 dict형식으로 변환\n",
                "    xdj3 = json.dumps(xd3, ensure_ascii=False) # dict형식의 데이터를 json 형식으로 변환\n",
                "    xdjd3 = json.loads(xdj3) # json 형식의 데이터를 dict 형식으로 변환"
            ],
            "outputs": [
                {
                    "output_type": "stream",
                    "name": "stdout",
                    "text": [
                        "<Response [200]>\n"
                    ]
                }
            ],
            "metadata": {}
        },
        {
            "cell_type": "code",
            "execution_count": 113,
            "source": [
                "xdjd3"
            ],
            "outputs": [
                {
                    "output_type": "execute_result",
                    "data": {
                        "text/plain": [
                            "{'response': {'header': {'resultCode': '00', 'resultMsg': 'NORMAL SERVICE.'},\n",
                            "  'body': {'items': None,\n",
                            "   'numOfRows': '10',\n",
                            "   'pageNo': '1',\n",
                            "   'totalCount': '0'}}}"
                        ]
                    },
                    "metadata": {},
                    "execution_count": 113
                }
            ],
            "metadata": {}
        },
        {
            "cell_type": "code",
            "execution_count": 114,
            "source": [
                "###########################################################\n",
                "# decoding\n",
                "service_key = \"Bai/vTgIbiRsY5w5O7aVL+LHplODFxh0r0aafEu2mjWuRQY0s70R3Kzl3gszDRRXDL128+Ynn4wfcHeZ3jD0tQ==\"\n",
                "\n",
                "default_url = \"http://apis.data.go.kr/B552895/rest/farmmap/getFarmmapDbyhsService/getIdBasedMonthDbyhsInfo?\"\n",
                "###########################################################\n",
                "\n",
                "query_params = {\"serviceKey\": service_key,\n",
                "                \"numOfRows\": 1000,\n",
                "                \"pageNo\": 1,\n",
                "                \"examinDe\": 20200501,\n",
                "                \"type\": \"xml\", # or {\"json\", \"xml\"}\n",
                "                \"id\": \"03718427\",\n",
                "                \"month\": 202107,\n",
                "                \"yearCount\": 5,\n",
                "               }\n",
                "\n",
                "response = requests.get(default_url, params=query_params)\n",
                "print(response)\n",
                "\n",
                "if response.status_code == 200:\n",
                "    xd4 = xmltodict.parse(response.text) # XML형식의 데이터를 dict형식으로 변환\n",
                "    xdj4 = json.dumps(xd4, ensure_ascii=False) # dict형식의 데이터를 json 형식으로 변환\n",
                "    xdjd4 = json.loads(xdj4) # json 형식의 데이터를 dict 형식으로 변환"
            ],
            "outputs": [
                {
                    "output_type": "stream",
                    "name": "stdout",
                    "text": [
                        "<Response [200]>\n"
                    ]
                }
            ],
            "metadata": {}
        },
        {
            "cell_type": "code",
            "execution_count": 116,
            "source": [
                "d_xdjd4 = xdjd4[\"response\"][\"body\"][\"items\"][\"item\"]\n",
                "data7 = json_normalize(d_xdjd4)\n",
                "data7[\"월\"] = 7"
            ],
            "outputs": [
                {
                    "output_type": "stream",
                    "name": "stderr",
                    "text": [
                        "<ipython-input-116-999387db50ec>:2: FutureWarning: pandas.io.json.json_normalize is deprecated, use pandas.json_normalize instead\n",
                        "  data7 = json_normalize(d_xdjd4)\n"
                    ]
                }
            ],
            "metadata": {}
        },
        {
            "cell_type": "code",
            "execution_count": 119,
            "source": [
                "###########################################################\n",
                "# decoding\n",
                "service_key = \"Bai/vTgIbiRsY5w5O7aVL+LHplODFxh0r0aafEu2mjWuRQY0s70R3Kzl3gszDRRXDL128+Ynn4wfcHeZ3jD0tQ==\"\n",
                "\n",
                "default_url = \"http://apis.data.go.kr/B552895/rest/farmmap/getFarmmapDbyhsService/getIdBasedMonthDbyhsInfo?\"\n",
                "###########################################################\n",
                "\n",
                "query_params = {\"serviceKey\": service_key,\n",
                "                \"numOfRows\": 1000,\n",
                "                \"pageNo\": 1,\n",
                "                \"examinDe\": 20200501,\n",
                "                \"type\": \"xml\", # or {\"json\", \"xml\"}\n",
                "                \"id\": \"03718427\",\n",
                "                \"month\": 202108,\n",
                "                \"yearCount\": 5,\n",
                "               }\n",
                "\n",
                "response = requests.get(default_url, params=query_params)\n",
                "print(response)\n",
                "\n",
                "if response.status_code == 200:\n",
                "    xd5 = xmltodict.parse(response.text) # XML형식의 데이터를 dict형식으로 변환\n",
                "    xdj5 = json.dumps(xd5, ensure_ascii=False) # dict형식의 데이터를 json 형식으로 변환\n",
                "    xdjd5 = json.loads(xdj5) # json 형식의 데이터를 dict 형식으로 변환"
            ],
            "outputs": [
                {
                    "output_type": "stream",
                    "name": "stdout",
                    "text": [
                        "<Response [200]>\n"
                    ]
                }
            ],
            "metadata": {}
        },
        {
            "cell_type": "code",
            "execution_count": 121,
            "source": [
                "d_xdjd5 = xdjd5[\"response\"][\"body\"][\"items\"][\"item\"]\n",
                "data8 = json_normalize(d_xdjd5)\n",
                "data8[\"월\"] = 8"
            ],
            "outputs": [
                {
                    "output_type": "stream",
                    "name": "stderr",
                    "text": [
                        "<ipython-input-121-23a6fef37188>:2: FutureWarning: pandas.io.json.json_normalize is deprecated, use pandas.json_normalize instead\n",
                        "  data8 = json_normalize(d_xdjd5)\n"
                    ]
                }
            ],
            "metadata": {}
        },
        {
            "cell_type": "code",
            "execution_count": 125,
            "source": [
                "pd.concat([data7, data8], axis=\"rows\").to_csv(\"팜맵ID_월별_농업병충해.csv\")"
            ],
            "outputs": [],
            "metadata": {}
        },
        {
            "cell_type": "code",
            "execution_count": 145,
            "source": [
                "###########################################################\n",
                "# 전국 도매시장 일별 실시간 경락가격 상세정보(법인사용코드포함)\n",
                "###########################################################\n",
                "data = pd.DataFrame()\n",
                "for i in range(1, 30):\n",
                "    # decoding\n",
                "    service_key = \"f22925e0eb0fdab4acd21c8d263f51e2cbe10a8541141d9929e14b1733942681\"\n",
                "\n",
                "    default_url = f\"http://211.237.50.150:7080/openapi/f22925e0eb0fdab4acd21c8d263f51e2cbe10a8541141d9929e14b1733942681/xml/Grid_20180118000000000580_1/1/20?DELNG_DE=2021070{i}\"\n",
                "    ###########################################################\n",
                "\n",
                "    response = requests.get(default_url)\n",
                "    print(response)\n",
                "\n",
                "    if response.status_code == 200:\n",
                "        xd5 = xmltodict.parse(response.text) # XML형식의 데이터를 dict형식으로 변환\n",
                "        xdj5 = json.dumps(xd5, ensure_ascii=False) # dict형식의 데이터를 json 형식으로 변환\n",
                "        xdjd5 = json.loads(xdj5) # json 형식의 데이터를 dict 형식으로 변환\n",
                "        data_a = json_normalize(xdjd5[\"Grid_20180118000000000580_1\"][\"row\"])\n",
                "        data = pd.concat([data, data_a], axis=\"rows\")"
            ],
            "outputs": [
                {
                    "output_type": "stream",
                    "name": "stdout",
                    "text": [
                        "<Response [200]>\n"
                    ]
                },
                {
                    "output_type": "stream",
                    "name": "stderr",
                    "text": [
                        "<ipython-input-145-8c0f4736c5a5>:19: FutureWarning: pandas.io.json.json_normalize is deprecated, use pandas.json_normalize instead\n",
                        "  data_a = json_normalize(xdjd5[\"Grid_20180118000000000580_1\"][\"row\"])\n"
                    ]
                },
                {
                    "output_type": "stream",
                    "name": "stdout",
                    "text": [
                        "<Response [200]>\n",
                        "<Response [200]>\n",
                        "<Response [200]>\n",
                        "<Response [200]>\n",
                        "<Response [200]>\n",
                        "<Response [200]>\n",
                        "<Response [200]>\n",
                        "<Response [200]>\n",
                        "<Response [200]>\n"
                    ]
                },
                {
                    "output_type": "error",
                    "ename": "KeyError",
                    "evalue": "'Grid_20180118000000000580_1'",
                    "traceback": [
                        "\u001b[0;31m---------------------------------------------------------------------------\u001b[0m",
                        "\u001b[0;31mKeyError\u001b[0m                                  Traceback (most recent call last)",
                        "\u001b[0;32m<ipython-input-145-8c0f4736c5a5>\u001b[0m in \u001b[0;36m<module>\u001b[0;34m\u001b[0m\n\u001b[1;32m     17\u001b[0m         \u001b[0mxdj5\u001b[0m \u001b[0;34m=\u001b[0m \u001b[0mjson\u001b[0m\u001b[0;34m.\u001b[0m\u001b[0mdumps\u001b[0m\u001b[0;34m(\u001b[0m\u001b[0mxd5\u001b[0m\u001b[0;34m,\u001b[0m \u001b[0mensure_ascii\u001b[0m\u001b[0;34m=\u001b[0m\u001b[0;32mFalse\u001b[0m\u001b[0;34m)\u001b[0m \u001b[0;31m# dict형식의 데이터를 json 형식으로 변환\u001b[0m\u001b[0;34m\u001b[0m\u001b[0;34m\u001b[0m\u001b[0m\n\u001b[1;32m     18\u001b[0m         \u001b[0mxdjd5\u001b[0m \u001b[0;34m=\u001b[0m \u001b[0mjson\u001b[0m\u001b[0;34m.\u001b[0m\u001b[0mloads\u001b[0m\u001b[0;34m(\u001b[0m\u001b[0mxdj5\u001b[0m\u001b[0;34m)\u001b[0m \u001b[0;31m# json 형식의 데이터를 dict 형식으로 변환\u001b[0m\u001b[0;34m\u001b[0m\u001b[0;34m\u001b[0m\u001b[0m\n\u001b[0;32m---> 19\u001b[0;31m         \u001b[0mdata_a\u001b[0m \u001b[0;34m=\u001b[0m \u001b[0mjson_normalize\u001b[0m\u001b[0;34m(\u001b[0m\u001b[0mxdjd5\u001b[0m\u001b[0;34m[\u001b[0m\u001b[0;34m\"Grid_20180118000000000580_1\"\u001b[0m\u001b[0;34m]\u001b[0m\u001b[0;34m[\u001b[0m\u001b[0;34m\"row\"\u001b[0m\u001b[0;34m]\u001b[0m\u001b[0;34m)\u001b[0m\u001b[0;34m\u001b[0m\u001b[0;34m\u001b[0m\u001b[0m\n\u001b[0m\u001b[1;32m     20\u001b[0m         \u001b[0mdata\u001b[0m \u001b[0;34m=\u001b[0m \u001b[0mpd\u001b[0m\u001b[0;34m.\u001b[0m\u001b[0mconcat\u001b[0m\u001b[0;34m(\u001b[0m\u001b[0;34m[\u001b[0m\u001b[0mdata\u001b[0m\u001b[0;34m,\u001b[0m \u001b[0mdata_a\u001b[0m\u001b[0;34m]\u001b[0m\u001b[0;34m,\u001b[0m \u001b[0maxis\u001b[0m\u001b[0;34m=\u001b[0m\u001b[0;34m\"rows\"\u001b[0m\u001b[0;34m)\u001b[0m\u001b[0;34m\u001b[0m\u001b[0;34m\u001b[0m\u001b[0m\n",
                        "\u001b[0;31mKeyError\u001b[0m: 'Grid_20180118000000000580_1'"
                    ]
                }
            ],
            "metadata": {}
        },
        {
            "cell_type": "code",
            "execution_count": 148,
            "source": [
                "data.to_csv(\"전국_도매시장_일별_경락가격(법인).csv\")"
            ],
            "outputs": [],
            "metadata": {}
        },
        {
            "cell_type": "code",
            "execution_count": null,
            "source": [
                "###########################################################\n",
                "# 한국수출입은행 환율\n",
                "###########################################################\n",
                "data = pd.DataFrame()\n",
                "for i in range(1, 30):\n",
                "    # decoding\n",
                "    service_key = \"f22925e0eb0fdab4acd21c8d263f51e2cbe10a8541141d9929e14b1733942681\"\n",
                "\n",
                "    default_url = f\"http://211.237.50.150:7080/openapi/f22925e0eb0fdab4acd21c8d263f51e2cbe10a8541141d9929e14b1733942681/xml/Grid_20180118000000000580_1/1/20?DELNG_DE=2021070{i}\"\n",
                "    ###########################################################\n",
                "\n",
                "    response = requests.get(default_url)\n",
                "    print(response)\n",
                "\n",
                "    if response.status_code == 200:\n",
                "        xd5 = xmltodict.parse(response.text) # XML형식의 데이터를 dict형식으로 변환\n",
                "        xdj5 = json.dumps(xd5, ensure_ascii=False) # dict형식의 데이터를 json 형식으로 변환\n",
                "        xdjd5 = json.loads(xdj5) # json 형식의 데이터를 dict 형식으로 변환\n",
                "        data_a = json_normalize(xdjd5[\"Grid_20180118000000000580_1\"][\"row\"])\n",
                "        data = pd.concat([data, data_a], axis=\"rows\")"
            ],
            "outputs": [],
            "metadata": {}
        },
        {
            "cell_type": "code",
            "execution_count": 29,
            "source": [
                "data = pd.DataFrame()\n",
                "\n",
                "for i in range(0, 30):\n",
                "    dates = 20210701 + i\n",
                "    service_key = \"xCiBdwrujOWcCNaQcBz78bpI3oykq4Kh\"\n",
                "\n",
                "    default_url = \"https://www.koreaexim.go.kr/site/program/financial/exchangeJSON?\"\n",
                "    ###########################################################\n",
                "    param_data_list = [\"AP01\", \"AP02\", \"AP03\"] \n",
                "    ## AP01 : 환율, AP02 : 대출금리, AP03 : 국제금리\n",
                "\n",
                "    query_params = {\"authkey\": service_key,\n",
                "                    \"searchdate\": dates,\n",
                "                    \"data\": \"AP01\",\n",
                "                   }\n",
                "\n",
                "    response = requests.get(default_url, params=query_params)\n",
                "\n",
                "    print(response)\n",
                "\n",
                "    if response.status_code == 200:\n",
                "        if response.text == \"[]\":\n",
                "            pass\n",
                "        else:\n",
                "            temp_json = json.loads(response.text)\n",
                "            temp = json_normalize(temp_json)\n",
                "            temp[\"dates\"] = 20210801 + i\n",
                "            data = pd.concat([data, temp], axis=\"rows\")"
            ],
            "outputs": [
                {
                    "output_type": "stream",
                    "name": "stdout",
                    "text": [
                        "<Response [200]>\n",
                        "<Response [200]>\n"
                    ]
                },
                {
                    "output_type": "stream",
                    "name": "stderr",
                    "text": [
                        "<ipython-input-29-05db3c8ae96b>:26: FutureWarning: pandas.io.json.json_normalize is deprecated, use pandas.json_normalize instead\n",
                        "  temp = json_normalize(temp_json)\n"
                    ]
                },
                {
                    "output_type": "stream",
                    "name": "stdout",
                    "text": [
                        "<Response [200]>\n",
                        "<Response [200]>\n",
                        "<Response [200]>\n",
                        "<Response [200]>\n",
                        "<Response [200]>\n",
                        "<Response [200]>\n",
                        "<Response [200]>\n",
                        "<Response [200]>\n",
                        "<Response [200]>\n",
                        "<Response [200]>\n",
                        "<Response [200]>\n",
                        "<Response [200]>\n",
                        "<Response [200]>\n",
                        "<Response [200]>\n",
                        "<Response [200]>\n",
                        "<Response [200]>\n",
                        "<Response [200]>\n",
                        "<Response [200]>\n",
                        "<Response [200]>\n",
                        "<Response [200]>\n",
                        "<Response [200]>\n",
                        "<Response [200]>\n",
                        "<Response [200]>\n",
                        "<Response [200]>\n",
                        "<Response [200]>\n",
                        "<Response [200]>\n",
                        "<Response [200]>\n",
                        "<Response [200]>\n"
                    ]
                }
            ],
            "metadata": {}
        },
        {
            "cell_type": "code",
            "execution_count": 33,
            "source": [
                "data.to_csv(\"환율.csv\")"
            ],
            "outputs": [],
            "metadata": {}
        },
        {
            "cell_type": "code",
            "execution_count": 11,
            "source": [
                "###########################################################\n",
                "# 전국 도매시장 일별 정산 경락가격 상세정보(법인사용코드포함)\n",
                "###########################################################\n",
                "# decoding\n",
                "service_key = \\\n",
                "    \"f22925e0eb0fdab4acd21c8d263f51e2cbe10a8541141d9929e14b1733942681\"\n",
                "api_url = \"Grid_20180118000000000580_1\"\n",
                "start_index = 1\n",
                "end_index = 1000\n",
                "default_url = \\\n",
                "        f\"http://211.237.50.150:7080/openapi/{service_key}/json/{api_url}/{start_index}/{end_index}?\"\n",
                "###########################################################\n",
                "###########################################################\n",
                "data = pd.DataFrame()\n",
                "###########################################################\n",
                "###########################################################\n",
                "for m in range(1, 13):\n",
                "    if m < 10:\n",
                "        m = '0' + str(m)\n",
                "    for d in range(1, 32):\n",
                "        if d < 10:\n",
                "            d = '0' + str(d)\n",
                "        query_params = {\"DELNG_DE\": f\"2020{m}{d}\", # 경락일\n",
                "                        \"PRDLST_NM\": \"대파\", # 품목명\n",
                "                        # \"PRDLST_CD\":, # 품목 코드\n",
                "                        # \"SPCIES_NM\":, # 품종명\n",
                "                        # \"SPCIES_CD\":, # 품종코드\n",
                "                        # \"STNDRD_CD\":, # 규격코드\n",
                "                        # \"GRAD_CD\":, # 등급코드\n",
                "                        # \"PBLMNG_WHSAL_MRKT_NM\":, # 공영 도매시장명\n",
                "                        # \"PBLMNG_WHSAL_MRKT_CD\":, # 공영 도매시장 코드\n",
                "                        # \"CPR_NM\":, # 공영도매시장 소속법인명\n",
                "                        # \"CPR_CD\":, # 공영도매시장 소속법인코드\n",
                "                    }\n",
                "###########################################################\n",
                "###########################################################\n",
                "\n",
                "        response = requests.get(default_url, params=query_params)\n",
                "        # print(response)\n",
                "\n",
                "        if response.status_code == 200:\n",
                "            if response.text == \"[]\":\n",
                "                pass\n",
                "            else:\n",
                "                json_t = json.loads(response.text) # json 형식의 데이터를 dict 형식으로 변환\n",
                "                data_temp = pd.json_normalize(json_t[\"Grid_20180118000000000580_1\"][\"row\"])\n",
                "                data = pd.concat([data, data_temp], axis=\"rows\")"
            ],
            "outputs": [],
            "metadata": {}
        },
        {
            "cell_type": "code",
            "execution_count": 12,
            "source": [
                "data.to_csv(\"대파_1y_일별_정산_경락가격.csv\")"
            ],
            "outputs": [],
            "metadata": {}
        },
        {
            "cell_type": "code",
            "execution_count": null,
            "source": [
                "# CPR_USE_SPCIES_NM\n",
                "[\"대파(일반)\", \"대파\", \"대파(단)\", \"파\", \"파(기타)\", \"파(대파)\", \"파(파)\"]"
            ],
            "outputs": [],
            "metadata": {}
        },
        {
            "cell_type": "code",
            "execution_count": null,
            "source": [
                "# STNDRD\n",
                "# kg 포함 x -> 삭제"
            ],
            "outputs": [],
            "metadata": {}
        },
        {
            "cell_type": "code",
            "execution_count": 12,
            "source": [
                "###########################################################\n",
                "# 전국 도매시장 일별 정산 경락가격 상세정보(법인사용코드포함)\n",
                "###########################################################\n",
                "# decoding\n",
                "service_key = \\\n",
                "    \"f22925e0eb0fdab4acd21c8d263f51e2cbe10a8541141d9929e14b1733942681\"\n",
                "api_url = \"Grid_20180118000000000580_1\"\n",
                "start_index = 1\n",
                "end_index = 10000\n",
                "default_url = \\\n",
                "        f\"http://211.237.50.150:7080/openapi/{service_key}/json/{api_url}/{start_index}/{end_index}?\"\n",
                "###########################################################\n",
                "###########################################################\n",
                "data = pd.DataFrame()\n",
                "###########################################################\n",
                "###########################################################\n",
                "query_params = {\"DELNG_DE\": \"20210701\", # 경락일\n",
                "                \"PRDLST_NM\": \"대파\", # 품목명\n",
                "                # \"PRDLST_CD\":, # 품목 코드\n",
                "                # \"SPCIES_NM\":, # 품종명\n",
                "                # \"SPCIES_CD\":, # 품종코드\n",
                "                # \"STNDRD_CD\":, # 규격코드\n",
                "                # \"GRAD_CD\":, # 등급코드\n",
                "                # \"PBLMNG_WHSAL_MRKT_NM\":, # 공영 도매시장명\n",
                "                # \"PBLMNG_WHSAL_MRKT_CD\":, # 공영 도매시장 코드\n",
                "                # \"CPR_NM\":, # 공영도매시장 소속법인명\n",
                "                # \"CPR_CD\":, # 공영도매시장 소속법인코드\n",
                "            }\n",
                "###########################################################\n",
                "###########################################################\n",
                "\n",
                "response = requests.get(default_url, params=query_params)\n",
                "print(response)\n",
                "\n",
                "if response.status_code == 200:\n",
                "    if response.text == \"[]\":\n",
                "        pass\n",
                "    else:\n",
                "        json_t = json.loads(response.text) # json 형식의 데이터를 dict 형식으로 변환\n",
                "        data_temp = pd.json_normalize(json_t[\"Grid_20180118000000000580_1\"][\"row\"])\n",
                "        data = pd.concat([data, data_temp], axis=\"rows\")"
            ],
            "outputs": [
                {
                    "output_type": "stream",
                    "name": "stdout",
                    "text": [
                        "<Response [200]>\n"
                    ]
                }
            ],
            "metadata": {}
        },
        {
            "cell_type": "code",
            "execution_count": null,
            "source": [],
            "outputs": [],
            "metadata": {}
        }
    ],
    "metadata": {
        "orig_nbformat": 4,
        "language_info": {
            "name": "python",
            "version": "3.9.6",
            "mimetype": "text/x-python",
            "codemirror_mode": {
                "name": "ipython",
                "version": 3
            },
            "pygments_lexer": "ipython3",
            "nbconvert_exporter": "python",
            "file_extension": ".py"
        },
        "kernelspec": {
            "name": "python3",
            "display_name": "Python 3.9.6 64-bit"
        },
        "interpreter": {
            "hash": "7812ea015bdcee6f23a998adcdd2ef97c151c0c241b7b7070987d9313e41299d"
        }
    },
    "nbformat": 4,
    "nbformat_minor": 2
}